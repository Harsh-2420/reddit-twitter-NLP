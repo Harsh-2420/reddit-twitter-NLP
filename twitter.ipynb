{
 "cells": [
  {
   "cell_type": "code",
   "execution_count": 1,
   "metadata": {},
   "outputs": [],
   "source": [
    "from textblob import TextBlob\n",
    "import sys\n",
    "import tweepy\n",
    "import matplotlib.pyplot as plt\n",
    "import pandas as pd\n",
    "import numpy as np\n",
    "import os\n",
    "import nltk\n",
    "import webbrowser\n",
    "import time\n",
    "import string\n",
    "from PIL import Image\n",
    "from nltk.sentiment.vader import SentimentIntensityAnalyzer\n",
    "from nltk.stem import SnowballStemmer\n",
    "from nltk.sentiment.vader import SentimentIntensityAnalyzer\n",
    "from sklearn.feature_extraction.text import CountVectorizer"
   ]
  },
  {
   "cell_type": "code",
   "execution_count": 2,
   "metadata": {},
   "outputs": [],
   "source": [
    "consumer_key = 'BisqYPaMePUvIDqERLlcMPnwj'\n",
    "consumer_secret = 'yCMvVajrONzZToh8EvSDOiM67AO0HGx7UCwY5oT1ceE3B6Gms1'\n",
    "bearer = 'AAAAAAAAAAAAAAAAAAAAAMqKPQEAAAAAbvTvuvsGziLwBnbJ1F8V1Ybik4I%3DIMcfk4C0xxj5jMFnSEy8iTWzv8f3SEiG2heEPm5AdwCCd6VDUF'\n",
    "# access_token = '1267871380617539585-77Ds7AS0NV8k5ZPeGD54GNLvAsPfEF'\n",
    "# access_token_secret = 'JIXkHGaiAXvpY8xl02CACDob76MTbqMHiCMbFX32xLV56'\n",
    "callback_uri = 'oob'"
   ]
  },
  {
   "cell_type": "code",
   "execution_count": 3,
   "metadata": {},
   "outputs": [
    {
     "data": {
      "text/plain": [
       "True"
      ]
     },
     "execution_count": 3,
     "metadata": {},
     "output_type": "execute_result"
    }
   ],
   "source": [
    "auth = tweepy.OAuthHandler(consumer_key, consumer_secret, callback_uri)\n",
    "redirect_url = auth.get_authorization_url()\n",
    "# print(redirect_url)\n",
    "\n",
    "webbrowser.open(redirect_url)\n",
    "\n",
    "\n"
   ]
  },
  {
   "cell_type": "code",
   "execution_count": 4,
   "metadata": {},
   "outputs": [
    {
     "name": "stdout",
     "output_type": "stream",
     "text": [
      "Enter pin value: 1573200\n"
     ]
    }
   ],
   "source": [
    "user_pin_input = input(\"Enter pin value: \")"
   ]
  },
  {
   "cell_type": "code",
   "execution_count": 5,
   "metadata": {},
   "outputs": [],
   "source": [
    "# auth.get_access_token(user_pin_input)\n",
    "api = tweepy.API(auth)\n"
   ]
  },
  {
   "cell_type": "markdown",
   "metadata": {},
   "source": [
    "# Get tweets from keyword search"
   ]
  },
  {
   "cell_type": "code",
   "execution_count": 51,
   "metadata": {},
   "outputs": [],
   "source": [
    "tweets = tweepy.Cursor(api.search, q='palestine').items(1)\n"
   ]
  },
  {
   "cell_type": "code",
   "execution_count": 94,
   "metadata": {
    "scrolled": false
   },
   "outputs": [
    {
     "name": "stdout",
     "output_type": "stream",
     "text": [
      "mrbiscuitbarrel\n",
      "\n",
      "@MayorofLondon Personally find Hockney really overrated.\n",
      "\n",
      "But really, when millions have lost their jobs is this re… https://t.co/8PVWUVjuzM\n",
      "['__class__', '__delattr__', '__dict__', '__dir__', '__doc__', '__eq__', '__format__', '__ge__', '__getattribute__', '__getstate__', '__gt__', '__hash__', '__init__', '__init_subclass__', '__le__', '__lt__', '__module__', '__ne__', '__new__', '__reduce__', '__reduce_ex__', '__repr__', '__setattr__', '__sizeof__', '__str__', '__subclasshook__', '__weakref__', '_api', '_json', 'author', 'contributors', 'coordinates', 'created_at', 'destroy', 'entities', 'favorite', 'favorite_count', 'favorited', 'geo', 'id', 'id_str', 'in_reply_to_screen_name', 'in_reply_to_status_id', 'in_reply_to_status_id_str', 'in_reply_to_user_id', 'in_reply_to_user_id_str', 'is_quote_status', 'lang', 'metadata', 'parse', 'parse_list', 'place', 'retweet', 'retweet_count', 'retweeted', 'retweets', 'source', 'source_url', 'text', 'truncated', 'user']\n"
     ]
    }
   ],
   "source": [
    "tweets = tweepy.Cursor(api.search, q='london').items(1)\n",
    "\n",
    "for tweet in tweets:\n",
    "    print(tweet.user.name)\n",
    "    print(tweet.user.location)\n",
    "    print(tweet.text)\n",
    "    print(dir(tweet))"
   ]
  },
  {
   "cell_type": "markdown",
   "metadata": {},
   "source": [
    "# Get location heatmap using keyword"
   ]
  },
  {
   "cell_type": "code",
   "execution_count": null,
   "metadata": {},
   "outputs": [],
   "source": [
    "keyword = 'palestine'\n",
    "WORLD = 1\n",
    "CANADA = 23424775\n",
    "\n",
    "rj_trends = api.trends_place(id = WORLD)\n",
    "trends = []\n",
    "for trend in rj_trends[0]['trends']: \n",
    "    if trend['tweet_volume'] is not None and trend['tweet_volume'] > 10000: \n",
    "        trends.append((trend['name'], trend['tweet_volume']))\n",
    "\n",
    "trends.sort(key=lambda x:-x[1])\n",
    "trends"
   ]
  },
  {
   "cell_type": "markdown",
   "metadata": {},
   "source": [
    "# Trending tweets from location keyword"
   ]
  },
  {
   "cell_type": "code",
   "execution_count": 79,
   "metadata": {},
   "outputs": [
    {
     "data": {
      "text/plain": [
       "[('Israel', 2348669),\n",
       " ('JUNGKOOK', 661002),\n",
       " ('Hamas', 455380),\n",
       " ('#ButterTeaser2', 430064),\n",
       " ('namjoon', 284412),\n",
       " ('McDonalds', 123089),\n",
       " ('Middle East', 120895),\n",
       " ('Porsha', 107626),\n",
       " ('Miguel', 89549),\n",
       " ('Testing', 88077),\n",
       " ('AstraZeneca', 64682),\n",
       " ('#tuesdaymotivations', 45410),\n",
       " ('Juventus', 44562),\n",
       " ('CONCEPT PHOTOS', 39594),\n",
       " ('Line 5', 39333),\n",
       " ('Kazan', 29768),\n",
       " ('#tuesdayvibe', 24773),\n",
       " ('Hamilton', 23516),\n",
       " ('Prego', 21428),\n",
       " ('Rand Paul', 17458),\n",
       " ('Québec', 14464),\n",
       " ('Eyebrow Piercing', 13483),\n",
       " ('Tom Cruise', 11621)]"
      ]
     },
     "execution_count": 79,
     "metadata": {},
     "output_type": "execute_result"
    }
   ],
   "source": [
    "woeid = 23424775\n",
    "  \n",
    "# fetching the trends\n",
    "rj_trends = api.trends_place(id = woeid)\n",
    "trends = []\n",
    "for trend in rj_trends[0]['trends']: \n",
    "    if trend['tweet_volume'] is not None and trend['tweet_volume'] > 10000: \n",
    "        trends.append((trend['name'], trend['tweet_volume']))\n",
    "\n",
    "trends.sort(key=lambda x:-x[1])\n",
    "trends\n",
    "# rj_trends"
   ]
  },
  {
   "cell_type": "code",
   "execution_count": 83,
   "metadata": {},
   "outputs": [
    {
     "data": {
      "text/html": [
       "<div>\n",
       "<style scoped>\n",
       "    .dataframe tbody tr th:only-of-type {\n",
       "        vertical-align: middle;\n",
       "    }\n",
       "\n",
       "    .dataframe tbody tr th {\n",
       "        vertical-align: top;\n",
       "    }\n",
       "\n",
       "    .dataframe thead th {\n",
       "        text-align: right;\n",
       "    }\n",
       "</style>\n",
       "<table border=\"1\" class=\"dataframe\">\n",
       "  <thead>\n",
       "    <tr style=\"text-align: right;\">\n",
       "      <th></th>\n",
       "      <th>country</th>\n",
       "      <th>continent</th>\n",
       "      <th>year</th>\n",
       "      <th>lifeExp</th>\n",
       "      <th>pop</th>\n",
       "      <th>gdpPercap</th>\n",
       "      <th>iso_alpha</th>\n",
       "      <th>iso_num</th>\n",
       "    </tr>\n",
       "  </thead>\n",
       "  <tbody>\n",
       "    <tr>\n",
       "      <th>0</th>\n",
       "      <td>Afghanistan</td>\n",
       "      <td>Asia</td>\n",
       "      <td>1952</td>\n",
       "      <td>28.801</td>\n",
       "      <td>8425333</td>\n",
       "      <td>779.445314</td>\n",
       "      <td>AFG</td>\n",
       "      <td>4</td>\n",
       "    </tr>\n",
       "    <tr>\n",
       "      <th>1</th>\n",
       "      <td>Afghanistan</td>\n",
       "      <td>Asia</td>\n",
       "      <td>1957</td>\n",
       "      <td>30.332</td>\n",
       "      <td>9240934</td>\n",
       "      <td>820.853030</td>\n",
       "      <td>AFG</td>\n",
       "      <td>4</td>\n",
       "    </tr>\n",
       "    <tr>\n",
       "      <th>2</th>\n",
       "      <td>Afghanistan</td>\n",
       "      <td>Asia</td>\n",
       "      <td>1962</td>\n",
       "      <td>31.997</td>\n",
       "      <td>10267083</td>\n",
       "      <td>853.100710</td>\n",
       "      <td>AFG</td>\n",
       "      <td>4</td>\n",
       "    </tr>\n",
       "    <tr>\n",
       "      <th>3</th>\n",
       "      <td>Afghanistan</td>\n",
       "      <td>Asia</td>\n",
       "      <td>1967</td>\n",
       "      <td>34.020</td>\n",
       "      <td>11537966</td>\n",
       "      <td>836.197138</td>\n",
       "      <td>AFG</td>\n",
       "      <td>4</td>\n",
       "    </tr>\n",
       "    <tr>\n",
       "      <th>4</th>\n",
       "      <td>Afghanistan</td>\n",
       "      <td>Asia</td>\n",
       "      <td>1972</td>\n",
       "      <td>36.088</td>\n",
       "      <td>13079460</td>\n",
       "      <td>739.981106</td>\n",
       "      <td>AFG</td>\n",
       "      <td>4</td>\n",
       "    </tr>\n",
       "    <tr>\n",
       "      <th>...</th>\n",
       "      <td>...</td>\n",
       "      <td>...</td>\n",
       "      <td>...</td>\n",
       "      <td>...</td>\n",
       "      <td>...</td>\n",
       "      <td>...</td>\n",
       "      <td>...</td>\n",
       "      <td>...</td>\n",
       "    </tr>\n",
       "    <tr>\n",
       "      <th>1699</th>\n",
       "      <td>Zimbabwe</td>\n",
       "      <td>Africa</td>\n",
       "      <td>1987</td>\n",
       "      <td>62.351</td>\n",
       "      <td>9216418</td>\n",
       "      <td>706.157306</td>\n",
       "      <td>ZWE</td>\n",
       "      <td>716</td>\n",
       "    </tr>\n",
       "    <tr>\n",
       "      <th>1700</th>\n",
       "      <td>Zimbabwe</td>\n",
       "      <td>Africa</td>\n",
       "      <td>1992</td>\n",
       "      <td>60.377</td>\n",
       "      <td>10704340</td>\n",
       "      <td>693.420786</td>\n",
       "      <td>ZWE</td>\n",
       "      <td>716</td>\n",
       "    </tr>\n",
       "    <tr>\n",
       "      <th>1701</th>\n",
       "      <td>Zimbabwe</td>\n",
       "      <td>Africa</td>\n",
       "      <td>1997</td>\n",
       "      <td>46.809</td>\n",
       "      <td>11404948</td>\n",
       "      <td>792.449960</td>\n",
       "      <td>ZWE</td>\n",
       "      <td>716</td>\n",
       "    </tr>\n",
       "    <tr>\n",
       "      <th>1702</th>\n",
       "      <td>Zimbabwe</td>\n",
       "      <td>Africa</td>\n",
       "      <td>2002</td>\n",
       "      <td>39.989</td>\n",
       "      <td>11926563</td>\n",
       "      <td>672.038623</td>\n",
       "      <td>ZWE</td>\n",
       "      <td>716</td>\n",
       "    </tr>\n",
       "    <tr>\n",
       "      <th>1703</th>\n",
       "      <td>Zimbabwe</td>\n",
       "      <td>Africa</td>\n",
       "      <td>2007</td>\n",
       "      <td>43.487</td>\n",
       "      <td>12311143</td>\n",
       "      <td>469.709298</td>\n",
       "      <td>ZWE</td>\n",
       "      <td>716</td>\n",
       "    </tr>\n",
       "  </tbody>\n",
       "</table>\n",
       "<p>1704 rows × 8 columns</p>\n",
       "</div>"
      ],
      "text/plain": [
       "          country continent  year  lifeExp       pop   gdpPercap iso_alpha  \\\n",
       "0     Afghanistan      Asia  1952   28.801   8425333  779.445314       AFG   \n",
       "1     Afghanistan      Asia  1957   30.332   9240934  820.853030       AFG   \n",
       "2     Afghanistan      Asia  1962   31.997  10267083  853.100710       AFG   \n",
       "3     Afghanistan      Asia  1967   34.020  11537966  836.197138       AFG   \n",
       "4     Afghanistan      Asia  1972   36.088  13079460  739.981106       AFG   \n",
       "...           ...       ...   ...      ...       ...         ...       ...   \n",
       "1699     Zimbabwe    Africa  1987   62.351   9216418  706.157306       ZWE   \n",
       "1700     Zimbabwe    Africa  1992   60.377  10704340  693.420786       ZWE   \n",
       "1701     Zimbabwe    Africa  1997   46.809  11404948  792.449960       ZWE   \n",
       "1702     Zimbabwe    Africa  2002   39.989  11926563  672.038623       ZWE   \n",
       "1703     Zimbabwe    Africa  2007   43.487  12311143  469.709298       ZWE   \n",
       "\n",
       "      iso_num  \n",
       "0           4  \n",
       "1           4  \n",
       "2           4  \n",
       "3           4  \n",
       "4           4  \n",
       "...       ...  \n",
       "1699      716  \n",
       "1700      716  \n",
       "1701      716  \n",
       "1702      716  \n",
       "1703      716  \n",
       "\n",
       "[1704 rows x 8 columns]"
      ]
     },
     "execution_count": 83,
     "metadata": {},
     "output_type": "execute_result"
    }
   ],
   "source": [
    "import plotly.express as px\n",
    "df = px.data.gapminder()\n",
    "df"
   ]
  },
  {
   "cell_type": "markdown",
   "metadata": {},
   "source": [
    "## Personal Tweets and Analysis"
   ]
  },
  {
   "cell_type": "code",
   "execution_count": 10,
   "metadata": {},
   "outputs": [
    {
     "name": "stdout",
     "output_type": "stream",
     "text": [
      "Imran Khan said انسانیت کی تمام حدود اور عالمی قوانین پامال کرتے ہوئے خصوصاً رمضان المبارک کے دوران اسرائیلی فوجیوں کے قبلہ اول یعن… https://t.co/1KzxeLmzI2\n",
      "Imran Khan said Strongly condemn Israeli Forces' attack esp during Ramazan on Palestinians in Qibla-e-Awaal, Al-Aqsa Mosque, violat… https://t.co/UpMZWC1iuP\n",
      "SpaceX said Deployment of 60 Starlink satellites confirmed https://t.co/RarbrcfUml\n",
      "Narendra Modi said Saddened by the demise of INA veteran Lalti Ram Ji. His courage and contributions to India’s freedom struggle will… https://t.co/E5hKmAdkXW\n",
      "SpaceX said Falcon 9’s first stage has landed on the Just Read the Instructions droneship, completing this booster’s 10th launc… https://t.co/48pJZyHq1i\n",
      "SpaceX said Liftoff! https://t.co/MZ4ct2Spnj\n",
      "SpaceX said Watch the first tenth flight of an orbital class rocket booster → https://t.co/bJFjLCzWdK  https://t.co/MDM6RNlN4J\n",
      "enzo said RT @Abz4ktt: I beg (if it is Laylatul Qadr tonight Inshallah) all of us Muslimeen in the world rn to all raise our hands tonight Inshallah…\n",
      "enzo said happy mother’s day to all the beautiful and selfless women out there 💓💓\n",
      "Narendra Modi said महान स्वतंत्रता सेनानी और समाजसेवी गोपाल कृष्ण गोखले को उनकी जयंती पर शत-शत नमन। राष्ट्रसेवा में समर्पित उनका जीवन… https://t.co/1FxxW1GcdD\n",
      "Narendra Modi said अपने अप्रतिम साहस, शौर्य और युद्ध कौशल से मां भारती को गौरवान्वित करने वाले महान योद्धा महाराणा प्रताप को उनकी जयं… https://t.co/vhUhmS5yER\n",
      "Narendra Modi said On Tagore Jayanti, I bow to the great Gurudev Tagore. May his exemplary ideals keep giving us strength and inspirat… https://t.co/uln0JcczLX\n",
      "Narendra Modi said রবীন্দ্রজয়ন্তীতে গুরুদেব রবীন্দ্রনাথ ঠাকুরের প্রতি আমার প্রণাম। প্রার্থনা করি, তাঁর স্বপ্নের ভারতবর্ষ গড়ে তুলতে… https://t.co/iSXBOVey2p\n",
      "Marques Brownlee said Lucid Air and Mustang Mach E commercials During SNL\n",
      "\n",
      "Tesla CEO hosting SNL\n",
      "\n",
      "There’s a joke in there somewhere #future\n",
      "Marques Brownlee said You've been scrolling for a while, check on that posture. Oh and don't forget to drink some water today. Rest your… https://t.co/9FdlzJiRi2\n",
      "enzo said mashallah 🤍 https://t.co/wAShfJgFTb\n",
      "BBC Breaking News said Labour's Sadiq Khan wins second term as London's mayor after beating Conservative rival Shaun Bailey \n",
      "\n",
      "https://t.co/ZcaQRnS3Bd\n",
      "Doug Ford said Ontario has now administered over 6 MILLION doses of the #COVID19 vaccine. As we receive more vaccines, more groups… https://t.co/OuGxjgCLjN\n",
      "Elon Musk said Special link to view SNL outside USA\n",
      "https://t.co/egSDZ8sNFu\n",
      "Hillary Clinton said We know waiving vaccine patents can save lives without stifling pharmaceutical companies' creativity. @billclinton… https://t.co/lYldqRy6Nq\n"
     ]
    }
   ],
   "source": [
    "timeline = api.home_timeline()\n",
    "for tweet in timeline:\n",
    "    print(f\"{tweet.user.name} said {tweet.text}\")"
   ]
  },
  {
   "cell_type": "code",
   "execution_count": null,
   "metadata": {},
   "outputs": [],
   "source": []
  },
  {
   "cell_type": "code",
   "execution_count": null,
   "metadata": {},
   "outputs": [],
   "source": []
  },
  {
   "cell_type": "code",
   "execution_count": null,
   "metadata": {},
   "outputs": [],
   "source": []
  }
 ],
 "metadata": {
  "kernelspec": {
   "display_name": "Python 3",
   "language": "python",
   "name": "python3"
  },
  "language_info": {
   "codemirror_mode": {
    "name": "ipython",
    "version": 3
   },
   "file_extension": ".py",
   "mimetype": "text/x-python",
   "name": "python",
   "nbconvert_exporter": "python",
   "pygments_lexer": "ipython3",
   "version": "3.7.5"
  }
 },
 "nbformat": 4,
 "nbformat_minor": 2
}
