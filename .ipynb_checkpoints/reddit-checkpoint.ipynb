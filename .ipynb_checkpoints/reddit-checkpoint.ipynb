{
 "cells": [
  {
   "cell_type": "code",
   "execution_count": 2,
   "metadata": {},
   "outputs": [],
   "source": [
    "import praw\n",
    "import requests"
   ]
  },
  {
   "cell_type": "code",
   "execution_count": 5,
   "metadata": {},
   "outputs": [],
   "source": [
    "client_secret = 'HeEFguWTJoqVRJ-jlu4Dq3qcQpS4Pg'\n",
    "client_id = 'pmOxZCjGdN_xaw'\n"
   ]
  },
  {
   "cell_type": "code",
   "execution_count": 6,
   "metadata": {},
   "outputs": [],
   "source": [
    "reddit = praw.Reddit(client_id=client_id, client_secret=client_secret, username='Itchy_Ease8445', user_agent=\"redditapi\")"
   ]
  },
  {
   "cell_type": "code",
   "execution_count": 26,
   "metadata": {},
   "outputs": [],
   "source": [
    "subreddit = reddit.subreddit('london')"
   ]
  },
  {
   "cell_type": "code",
   "execution_count": 27,
   "metadata": {},
   "outputs": [
    {
     "name": "stdout",
     "output_type": "stream",
     "text": [
      "The r/London census results are here!\n",
      "[Megathread] Sadiq Khan re-elected for second term as Mayor of London\n",
      "Nearly 25k\n",
      "Victoria Line, Finsbury Park, Northbound, 1995 (source: unknown)\n",
      "Short timelapse I made of some wisteria blossoming near me in Camden!\n"
     ]
    }
   ],
   "source": [
    "for sub in subreddit.hot(limit=5):\n",
    "    print(sub.title)"
   ]
  },
  {
   "cell_type": "code",
   "execution_count": null,
   "metadata": {},
   "outputs": [],
   "source": []
  }
 ],
 "metadata": {
  "kernelspec": {
   "display_name": "Python 3",
   "language": "python",
   "name": "python3"
  },
  "language_info": {
   "codemirror_mode": {
    "name": "ipython",
    "version": 3
   },
   "file_extension": ".py",
   "mimetype": "text/x-python",
   "name": "python",
   "nbconvert_exporter": "python",
   "pygments_lexer": "ipython3",
   "version": "3.7.5"
  }
 },
 "nbformat": 4,
 "nbformat_minor": 2
}
