{
 "cells": [
  {
   "cell_type": "code",
   "execution_count": 1,
   "metadata": {},
   "outputs": [],
   "source": [
    "import praw\n",
    "import requests\n",
    "from datetime import datetime"
   ]
  },
  {
   "cell_type": "code",
   "execution_count": 2,
   "metadata": {},
   "outputs": [],
   "source": [
    "client_secret = 'HeEFguWTJoqVRJ-jlu4Dq3qcQpS4Pg'\n",
    "client_id = 'pmOxZCjGdN_xaw'\n"
   ]
  },
  {
   "cell_type": "code",
   "execution_count": 3,
   "metadata": {},
   "outputs": [],
   "source": [
    "reddit = praw.Reddit(client_id=client_id, client_secret=client_secret, username='Striking_Pineapple2', user_agent=\"redditapi\")"
   ]
  },
  {
   "cell_type": "markdown",
   "metadata": {},
   "source": [
    "# Data from Keyword "
   ]
  },
  {
   "cell_type": "code",
   "execution_count": 53,
   "metadata": {},
   "outputs": [],
   "source": [
    "subreddit = reddit.subreddit('news')"
   ]
  },
  {
   "cell_type": "code",
   "execution_count": 54,
   "metadata": {},
   "outputs": [
    {
     "name": "stdout",
     "output_type": "stream",
     "text": [
      "Officers shouldn’t have fired into Breonna Taylor’s home, report says\n",
      "Myanmar poet dies after detention, body returned with organs removed\n",
      "Woman choked by ex-boyfriend shoots him to death in N. Harris Co.\n",
      "Missouri hiker shot in the chest after being mistaken for a turkey, police say\n",
      "Florida reports more than 10,000 COVID-19 variant cases, surge after spring break\n"
     ]
    }
   ],
   "source": [
    "date=[]\n",
    "for sub in subreddit.hot(limit=5):\n",
    "    time = datetime.utcfromtimestamp(sub.created).strftime('%Y-%m-%d %H:%M:%S')\n",
    "    date.append(time)\n",
    "    "
   ]
  },
  {
   "cell_type": "code",
   "execution_count": null,
   "metadata": {},
   "outputs": [],
   "source": [
    "date"
   ]
  },
  {
   "cell_type": "code",
   "execution_count": 62,
   "metadata": {},
   "outputs": [
    {
     "name": "stdout",
     "output_type": "stream",
     "text": [
      "Officers shouldn’t have fired into Breonna Taylor’s home, report says\n",
      "The title makes it sound like this is a new report. It's not. It was an internal report from last year that was ignored by police leadership.\n",
      "\n",
      ">Newly released documents from an internal probe into the fatal shooting of Breonna Taylor shows two investigators determined that none of the officers involved in serving a 2020 narcotics warrant at the 26-year-old's apartment should have fired their gun, but the findings were contradicted by senior officials in the Louisville Metro Police Department, according to a new report from two investigators.\n",
      "-----\n",
      "Uhh, I'll take “No shit Sherlock for 400$ please, Alex.”\n",
      "-----\n",
      "They shouldn't have done a no-knock raid at all.\n",
      "\n",
      "The theory behind them is that you have to surprise people, otherwise they'll have time to flush the drugs.\n",
      "\n",
      "If you've have an amount of drugs that can be flushed in the time between police begin banging on your door and announcing themselves and a minute later when they can break the door down, then you don't have enough drugs to warrant having the door busted down to begin with.\n",
      "-----\n",
      "Glad we settled that tricky question.\n",
      "-----\n",
      "Report states, sky is blue. Ocean is deep.\n",
      "-----\n",
      "I always wondered - why did they do this raid at 1:30AM - when people would be asleep and not able to respond quickly?  Even if someone knocked on my door at 1:30AM, I would be asleep, would take me a while to respond, and may not have even heard anyone knocking, therefore giving justification for cops to break in.  I may well assume some criminals were breaking into my home.  Could they not have done this at 9 or 10PM when the chances for the occupants to be awake and alert were much higher?  Or did the cops need the overtime?\n",
      "-----\n",
      ">Mattingly was cleared of wrongdoing by former interim Louisville police Chief Yvette Gentry\n",
      "\n",
      ">Gentry, however, added, \"I still believe in my soul Breonna Taylor should be alive.\"\n",
      "\n",
      "You believe in your soul that she shouldn't have been murdered, but that's overriden by your tribal loyalty.\n",
      "\n",
      "Which pretty much says all that can be said about the state of that soul.\n",
      "-----\n",
      "Get rid of no knock warrants\n",
      "-----\n",
      "In other news, fire is hot\n",
      "-----\n",
      "You don’t say?!?! \n",
      "\n",
      "Fucking idiots\n",
      "-----\n",
      "End the fucking drug war yesterday. A tragic situation, but if people really believe that the following is the level of skill expected of your average officers, we are in deep trouble. \n",
      "\n",
      "“Mattingly, according to Meyer's report, \"should not have taken the shot\" because Walker, who had a permit to carry a handgun, wasn't a clear, isolated target after he ducked into a back bedroom at the end of a dimly lit hallway.”\n",
      "\n",
      "You’re a dude who makes $60k a year, has not had enough training (clearly), and is being actively fired upon. This is an expected outcome imo, and why raiding someone’s home should be held for people that are imminent threats.\n",
      "-----\n"
     ]
    }
   ],
   "source": [
    "for sub in subreddit.hot(limit=1):\n",
    "    print(sub.title)\n",
    "    sub.comments.replace_more(limit=0)\n",
    "    i = 0\n",
    "    for comment in sub.comments:\n",
    "        if i< 11:\n",
    "            print(comment.body)\n",
    "        else:\n",
    "            break\n",
    "        i +=1\n",
    "        print('-----')"
   ]
  },
  {
   "cell_type": "code",
   "execution_count": 36,
   "metadata": {},
   "outputs": [
    {
     "name": "stdout",
     "output_type": "stream",
     "text": [
      "['STR_FIELD', '__class__', '__delattr__', '__dict__', '__dir__', '__doc__', '__eq__', '__format__', '__ge__', '__getattr__', '__getattribute__', '__gt__', '__hash__', '__init__', '__init_subclass__', '__le__', '__lt__', '__module__', '__ne__', '__new__', '__reduce__', '__reduce_ex__', '__repr__', '__setattr__', '__sizeof__', '__str__', '__subclasshook__', '__weakref__', '_chunk', '_comments_by_id', '_fetch', '_fetch_data', '_fetch_info', '_fetched', '_kind', '_reddit', '_reset_attributes', '_safely_add_arguments', '_url_parts', '_vote', 'all_awardings', 'allow_live_comments', 'approved_at_utc', 'approved_by', 'archived', 'author', 'author_flair_background_color', 'author_flair_css_class', 'author_flair_richtext', 'author_flair_template_id', 'author_flair_text', 'author_flair_text_color', 'author_flair_type', 'author_fullname', 'author_patreon_flair', 'author_premium', 'award', 'awarders', 'banned_at_utc', 'banned_by', 'can_gild', 'can_mod_post', 'category', 'clear_vote', 'clicked', 'comment_limit', 'comment_sort', 'comments', 'content_categories', 'contest_mode', 'created', 'created_utc', 'crosspost', 'delete', 'disable_inbox_replies', 'discussion_type', 'distinguished', 'domain', 'downs', 'downvote', 'duplicates', 'edit', 'edited', 'enable_inbox_replies', 'flair', 'fullname', 'gild', 'gilded', 'gildings', 'hidden', 'hide', 'hide_score', 'id', 'id_from_url', 'is_crosspostable', 'is_meta', 'is_original_content', 'is_reddit_media_domain', 'is_robot_indexable', 'is_self', 'is_video', 'likes', 'link_flair_background_color', 'link_flair_css_class', 'link_flair_richtext', 'link_flair_text', 'link_flair_text_color', 'link_flair_type', 'locked', 'mark_visited', 'media', 'media_embed', 'media_only', 'mod', 'mod_note', 'mod_reason_by', 'mod_reason_title', 'mod_reports', 'name', 'no_follow', 'num_comments', 'num_crossposts', 'num_reports', 'over_18', 'parent_whitelist_status', 'parse', 'permalink', 'pinned', 'pwls', 'quarantine', 'removal_reason', 'removed_by', 'removed_by_category', 'reply', 'report', 'report_reasons', 'save', 'saved', 'score', 'secure_media', 'secure_media_embed', 'selftext', 'selftext_html', 'send_replies', 'shortlink', 'spoiler', 'stickied', 'subreddit', 'subreddit_id', 'subreddit_name_prefixed', 'subreddit_subscribers', 'subreddit_type', 'suggested_sort', 'thumbnail', 'thumbnail_height', 'thumbnail_width', 'title', 'top_awarded_type', 'total_awards_received', 'treatment_tags', 'unhide', 'unsave', 'ups', 'upvote', 'upvote_ratio', 'url', 'user_reports', 'view_count', 'visited', 'whitelist_status', 'wls']\n",
      "london\n",
      "7\n",
      "Megathread for visitors and new & existing residents. All questions about living/working/budgeting/visiting should be asked here!\n"
     ]
    }
   ],
   "source": [
    "for sub in subreddit.hot(limit=1):\n",
    "    print(dir(sub))\n",
    "#     print(sub.body)\n",
    "    print(sub.subreddit)\n",
    "    print(sub.score)\n",
    "    print(sub.title)\n",
    "#     print(sub.thumbnail)\n",
    "    "
   ]
  },
  {
   "cell_type": "code",
   "execution_count": null,
   "metadata": {},
   "outputs": [],
   "source": []
  }
 ],
 "metadata": {
  "kernelspec": {
   "display_name": "Python 3",
   "language": "python",
   "name": "python3"
  },
  "language_info": {
   "codemirror_mode": {
    "name": "ipython",
    "version": 3
   },
   "file_extension": ".py",
   "mimetype": "text/x-python",
   "name": "python",
   "nbconvert_exporter": "python",
   "pygments_lexer": "ipython3",
   "version": "3.7.5"
  }
 },
 "nbformat": 4,
 "nbformat_minor": 2
}
