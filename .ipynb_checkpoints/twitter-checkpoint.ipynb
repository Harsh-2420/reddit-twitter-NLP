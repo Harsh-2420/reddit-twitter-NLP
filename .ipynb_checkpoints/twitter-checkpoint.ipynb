{
 "cells": [
  {
   "cell_type": "code",
   "execution_count": 10,
   "metadata": {},
   "outputs": [],
   "source": [
    "from textblob import TextBlob\n",
    "import sys\n",
    "import tweepy\n",
    "import matplotlib.pyplot as plt\n",
    "import pandas as pd\n",
    "import numpy as np\n",
    "import os\n",
    "import nltk\n",
    "import webbrowser\n",
    "import time\n",
    "import string\n",
    "from PIL import Image\n",
    "from nltk.sentiment.vader import SentimentIntensityAnalyzer\n",
    "from nltk.stem import SnowballStemmer\n",
    "from nltk.sentiment.vader import SentimentIntensityAnalyzer\n",
    "from sklearn.feature_extraction.text import CountVectorizer"
   ]
  },
  {
   "cell_type": "code",
   "execution_count": 11,
   "metadata": {},
   "outputs": [],
   "source": [
    "consumer_key = 'BisqYPaMePUvIDqERLlcMPnwj'\n",
    "consumer_secret = 'yCMvVajrONzZToh8EvSDOiM67AO0HGx7UCwY5oT1ceE3B6Gms1'\n",
    "bearer = 'AAAAAAAAAAAAAAAAAAAAAMqKPQEAAAAAbvTvuvsGziLwBnbJ1F8V1Ybik4I%3DIMcfk4C0xxj5jMFnSEy8iTWzv8f3SEiG2heEPm5AdwCCd6VDUF'\n",
    "# access_token = '1267871380617539585-77Ds7AS0NV8k5ZPeGD54GNLvAsPfEF'\n",
    "# access_token_secret = 'JIXkHGaiAXvpY8xl02CACDob76MTbqMHiCMbFX32xLV56'\n",
    "callback_uri = 'oob'"
   ]
  },
  {
   "cell_type": "code",
   "execution_count": 28,
   "metadata": {},
   "outputs": [
    {
     "data": {
      "text/plain": [
       "True"
      ]
     },
     "execution_count": 28,
     "metadata": {},
     "output_type": "execute_result"
    }
   ],
   "source": [
    "auth = tweepy.OAuthHandler(consumer_key, consumer_secret, callback_uri)\n",
    "redirect_url = auth.get_authorization_url()\n",
    "# print(redirect_url)\n",
    "\n",
    "webbrowser.open(redirect_url)\n",
    "\n",
    "\n"
   ]
  },
  {
   "cell_type": "code",
   "execution_count": 29,
   "metadata": {},
   "outputs": [
    {
     "name": "stdout",
     "output_type": "stream",
     "text": [
      "Enter pin value: 0474698\n"
     ]
    }
   ],
   "source": [
    "user_pin_input = input(\"Enter pin value: \")"
   ]
  },
  {
   "cell_type": "code",
   "execution_count": 32,
   "metadata": {},
   "outputs": [],
   "source": [
    "# auth.get_access_token(user_pin_input)\n",
    "api = tweepy.API(auth)\n"
   ]
  },
  {
   "cell_type": "code",
   "execution_count": 43,
   "metadata": {},
   "outputs": [],
   "source": [
    "tweets = tweepy.Cursor(api.search, q='trump').items(2500)\n"
   ]
  },
  {
   "cell_type": "code",
   "execution_count": 49,
   "metadata": {},
   "outputs": [
    {
     "name": "stdout",
     "output_type": "stream",
     "text": [
      "Status(_api=<tweepy.api.API object at 0x137643510>, _json={'created_at': 'Sun May 09 14:58:08 +0000 2021', 'id': 1391407143631441924, 'id_str': '1391407143631441924', 'text': 'RT @TheLeoTerrell: President Trump: 75 million voters and I continue to support you!! #GodBlessAmerica #GodBlessPresidentTrump', 'truncated': False, 'entities': {'hashtags': [{'text': 'GodBlessAmerica', 'indices': [86, 102]}, {'text': 'GodBlessPresidentTrump', 'indices': [103, 126]}], 'symbols': [], 'user_mentions': [{'screen_name': 'TheLeoTerrell', 'name': 'TheLeoTerrell', 'id': 1212806053907185664, 'id_str': '1212806053907185664', 'indices': [3, 17]}], 'urls': []}, 'metadata': {'iso_language_code': 'en', 'result_type': 'recent'}, 'source': '<a href=\"http://twitter.com/download/iphone\" rel=\"nofollow\">Twitter for iPhone</a>', 'in_reply_to_status_id': None, 'in_reply_to_status_id_str': None, 'in_reply_to_user_id': None, 'in_reply_to_user_id_str': None, 'in_reply_to_screen_name': None, 'user': {'id': 897773046315888641, 'id_str': '897773046315888641', 'name': 'jsmith', 'screen_name': 'Joysmith1977', 'location': '', 'description': 'Truth always. Re-tweets are just that. In GOD I Trust! Jesus is my savior! Blessed to be an American! God bless the soldiers.', 'url': None, 'entities': {'description': {'urls': []}}, 'protected': False, 'followers_count': 178, 'friends_count': 535, 'listed_count': 0, 'created_at': 'Wed Aug 16 10:52:28 +0000 2017', 'favourites_count': 25173, 'utc_offset': None, 'time_zone': None, 'geo_enabled': False, 'verified': False, 'statuses_count': 25981, 'lang': None, 'contributors_enabled': False, 'is_translator': False, 'is_translation_enabled': False, 'profile_background_color': 'F5F8FA', 'profile_background_image_url': None, 'profile_background_image_url_https': None, 'profile_background_tile': False, 'profile_image_url': 'http://pbs.twimg.com/profile_images/1368931246802341889/6H61ulzR_normal.jpg', 'profile_image_url_https': 'https://pbs.twimg.com/profile_images/1368931246802341889/6H61ulzR_normal.jpg', 'profile_banner_url': 'https://pbs.twimg.com/profile_banners/897773046315888641/1607384713', 'profile_link_color': '1DA1F2', 'profile_sidebar_border_color': 'C0DEED', 'profile_sidebar_fill_color': 'DDEEF6', 'profile_text_color': '333333', 'profile_use_background_image': True, 'has_extended_profile': False, 'default_profile': True, 'default_profile_image': False, 'following': False, 'follow_request_sent': False, 'notifications': False, 'translator_type': 'none', 'withheld_in_countries': []}, 'geo': None, 'coordinates': None, 'place': None, 'contributors': None, 'retweeted_status': {'created_at': 'Sun May 09 13:40:09 +0000 2021', 'id': 1391387517895725061, 'id_str': '1391387517895725061', 'text': 'President Trump: 75 million voters and I continue to support you!! #GodBlessAmerica #GodBlessPresidentTrump', 'truncated': False, 'entities': {'hashtags': [{'text': 'GodBlessAmerica', 'indices': [67, 83]}, {'text': 'GodBlessPresidentTrump', 'indices': [84, 107]}], 'symbols': [], 'user_mentions': [], 'urls': []}, 'metadata': {'iso_language_code': 'en', 'result_type': 'recent'}, 'source': '<a href=\"https://mobile.twitter.com\" rel=\"nofollow\">Twitter Web App</a>', 'in_reply_to_status_id': None, 'in_reply_to_status_id_str': None, 'in_reply_to_user_id': None, 'in_reply_to_user_id_str': None, 'in_reply_to_screen_name': None, 'user': {'id': 1212806053907185664, 'id_str': '1212806053907185664', 'name': 'TheLeoTerrell', 'screen_name': 'TheLeoTerrell', 'location': 'Los Angeles', 'description': 'Fair Minded Fox News Contributor, Podcast Host, Civil Rights Attorney, Author, Fmr School Teacher. Leo 2.0 on @KABCRadio @FoxNews', 'url': 'https://t.co/Lp3c7Pr7Zj', 'entities': {'url': {'urls': [{'url': 'https://t.co/Lp3c7Pr7Zj', 'expanded_url': 'http://theleoterrell.com', 'display_url': 'theleoterrell.com', 'indices': [0, 23]}]}, 'description': {'urls': []}}, 'protected': False, 'followers_count': 497330, 'friends_count': 442, 'listed_count': 670, 'created_at': 'Thu Jan 02 18:41:53 +0000 2020', 'favourites_count': 4933, 'utc_offset': None, 'time_zone': None, 'geo_enabled': True, 'verified': False, 'statuses_count': 6971, 'lang': None, 'contributors_enabled': False, 'is_translator': False, 'is_translation_enabled': False, 'profile_background_color': 'F5F8FA', 'profile_background_image_url': None, 'profile_background_image_url_https': None, 'profile_background_tile': False, 'profile_image_url': 'http://pbs.twimg.com/profile_images/1383565672827944964/qxxY3h_v_normal.jpg', 'profile_image_url_https': 'https://pbs.twimg.com/profile_images/1383565672827944964/qxxY3h_v_normal.jpg', 'profile_banner_url': 'https://pbs.twimg.com/profile_banners/1212806053907185664/1601044840', 'profile_link_color': '1DA1F2', 'profile_sidebar_border_color': 'C0DEED', 'profile_sidebar_fill_color': 'DDEEF6', 'profile_text_color': '333333', 'profile_use_background_image': True, 'has_extended_profile': False, 'default_profile': True, 'default_profile_image': False, 'following': False, 'follow_request_sent': False, 'notifications': False, 'translator_type': 'none', 'withheld_in_countries': []}, 'geo': None, 'coordinates': None, 'place': None, 'contributors': None, 'is_quote_status': False, 'retweet_count': 114, 'favorite_count': 1063, 'favorited': False, 'retweeted': False, 'lang': 'en'}, 'is_quote_status': False, 'retweet_count': 114, 'favorite_count': 0, 'favorited': False, 'retweeted': False, 'lang': 'en'}, created_at=datetime.datetime(2021, 5, 9, 14, 58, 8), id=1391407143631441924, id_str='1391407143631441924', text='RT @TheLeoTerrell: President Trump: 75 million voters and I continue to support you!! #GodBlessAmerica #GodBlessPresidentTrump', truncated=False, entities={'hashtags': [{'text': 'GodBlessAmerica', 'indices': [86, 102]}, {'text': 'GodBlessPresidentTrump', 'indices': [103, 126]}], 'symbols': [], 'user_mentions': [{'screen_name': 'TheLeoTerrell', 'name': 'TheLeoTerrell', 'id': 1212806053907185664, 'id_str': '1212806053907185664', 'indices': [3, 17]}], 'urls': []}, metadata={'iso_language_code': 'en', 'result_type': 'recent'}, source='Twitter for iPhone', source_url='http://twitter.com/download/iphone', in_reply_to_status_id=None, in_reply_to_status_id_str=None, in_reply_to_user_id=None, in_reply_to_user_id_str=None, in_reply_to_screen_name=None, author=User(_api=<tweepy.api.API object at 0x137643510>, _json={'id': 897773046315888641, 'id_str': '897773046315888641', 'name': 'jsmith', 'screen_name': 'Joysmith1977', 'location': '', 'description': 'Truth always. Re-tweets are just that. In GOD I Trust! Jesus is my savior! Blessed to be an American! God bless the soldiers.', 'url': None, 'entities': {'description': {'urls': []}}, 'protected': False, 'followers_count': 178, 'friends_count': 535, 'listed_count': 0, 'created_at': 'Wed Aug 16 10:52:28 +0000 2017', 'favourites_count': 25173, 'utc_offset': None, 'time_zone': None, 'geo_enabled': False, 'verified': False, 'statuses_count': 25981, 'lang': None, 'contributors_enabled': False, 'is_translator': False, 'is_translation_enabled': False, 'profile_background_color': 'F5F8FA', 'profile_background_image_url': None, 'profile_background_image_url_https': None, 'profile_background_tile': False, 'profile_image_url': 'http://pbs.twimg.com/profile_images/1368931246802341889/6H61ulzR_normal.jpg', 'profile_image_url_https': 'https://pbs.twimg.com/profile_images/1368931246802341889/6H61ulzR_normal.jpg', 'profile_banner_url': 'https://pbs.twimg.com/profile_banners/897773046315888641/1607384713', 'profile_link_color': '1DA1F2', 'profile_sidebar_border_color': 'C0DEED', 'profile_sidebar_fill_color': 'DDEEF6', 'profile_text_color': '333333', 'profile_use_background_image': True, 'has_extended_profile': False, 'default_profile': True, 'default_profile_image': False, 'following': False, 'follow_request_sent': False, 'notifications': False, 'translator_type': 'none', 'withheld_in_countries': []}, id=897773046315888641, id_str='897773046315888641', name='jsmith', screen_name='Joysmith1977', location='', description='Truth always. Re-tweets are just that. In GOD I Trust! Jesus is my savior! Blessed to be an American! God bless the soldiers.', url=None, entities={'description': {'urls': []}}, protected=False, followers_count=178, friends_count=535, listed_count=0, created_at=datetime.datetime(2017, 8, 16, 10, 52, 28), favourites_count=25173, utc_offset=None, time_zone=None, geo_enabled=False, verified=False, statuses_count=25981, lang=None, contributors_enabled=False, is_translator=False, is_translation_enabled=False, profile_background_color='F5F8FA', profile_background_image_url=None, profile_background_image_url_https=None, profile_background_tile=False, profile_image_url='http://pbs.twimg.com/profile_images/1368931246802341889/6H61ulzR_normal.jpg', profile_image_url_https='https://pbs.twimg.com/profile_images/1368931246802341889/6H61ulzR_normal.jpg', profile_banner_url='https://pbs.twimg.com/profile_banners/897773046315888641/1607384713', profile_link_color='1DA1F2', profile_sidebar_border_color='C0DEED', profile_sidebar_fill_color='DDEEF6', profile_text_color='333333', profile_use_background_image=True, has_extended_profile=False, default_profile=True, default_profile_image=False, following=False, follow_request_sent=False, notifications=False, translator_type='none', withheld_in_countries=[]), user=User(_api=<tweepy.api.API object at 0x137643510>, _json={'id': 897773046315888641, 'id_str': '897773046315888641', 'name': 'jsmith', 'screen_name': 'Joysmith1977', 'location': '', 'description': 'Truth always. Re-tweets are just that. In GOD I Trust! Jesus is my savior! Blessed to be an American! God bless the soldiers.', 'url': None, 'entities': {'description': {'urls': []}}, 'protected': False, 'followers_count': 178, 'friends_count': 535, 'listed_count': 0, 'created_at': 'Wed Aug 16 10:52:28 +0000 2017', 'favourites_count': 25173, 'utc_offset': None, 'time_zone': None, 'geo_enabled': False, 'verified': False, 'statuses_count': 25981, 'lang': None, 'contributors_enabled': False, 'is_translator': False, 'is_translation_enabled': False, 'profile_background_color': 'F5F8FA', 'profile_background_image_url': None, 'profile_background_image_url_https': None, 'profile_background_tile': False, 'profile_image_url': 'http://pbs.twimg.com/profile_images/1368931246802341889/6H61ulzR_normal.jpg', 'profile_image_url_https': 'https://pbs.twimg.com/profile_images/1368931246802341889/6H61ulzR_normal.jpg', 'profile_banner_url': 'https://pbs.twimg.com/profile_banners/897773046315888641/1607384713', 'profile_link_color': '1DA1F2', 'profile_sidebar_border_color': 'C0DEED', 'profile_sidebar_fill_color': 'DDEEF6', 'profile_text_color': '333333', 'profile_use_background_image': True, 'has_extended_profile': False, 'default_profile': True, 'default_profile_image': False, 'following': False, 'follow_request_sent': False, 'notifications': False, 'translator_type': 'none', 'withheld_in_countries': []}, id=897773046315888641, id_str='897773046315888641', name='jsmith', screen_name='Joysmith1977', location='', description='Truth always. Re-tweets are just that. In GOD I Trust! Jesus is my savior! Blessed to be an American! God bless the soldiers.', url=None, entities={'description': {'urls': []}}, protected=False, followers_count=178, friends_count=535, listed_count=0, created_at=datetime.datetime(2017, 8, 16, 10, 52, 28), favourites_count=25173, utc_offset=None, time_zone=None, geo_enabled=False, verified=False, statuses_count=25981, lang=None, contributors_enabled=False, is_translator=False, is_translation_enabled=False, profile_background_color='F5F8FA', profile_background_image_url=None, profile_background_image_url_https=None, profile_background_tile=False, profile_image_url='http://pbs.twimg.com/profile_images/1368931246802341889/6H61ulzR_normal.jpg', profile_image_url_https='https://pbs.twimg.com/profile_images/1368931246802341889/6H61ulzR_normal.jpg', profile_banner_url='https://pbs.twimg.com/profile_banners/897773046315888641/1607384713', profile_link_color='1DA1F2', profile_sidebar_border_color='C0DEED', profile_sidebar_fill_color='DDEEF6', profile_text_color='333333', profile_use_background_image=True, has_extended_profile=False, default_profile=True, default_profile_image=False, following=False, follow_request_sent=False, notifications=False, translator_type='none', withheld_in_countries=[]), geo=None, coordinates=None, place=None, contributors=None, retweeted_status=Status(_api=<tweepy.api.API object at 0x137643510>, _json={'created_at': 'Sun May 09 13:40:09 +0000 2021', 'id': 1391387517895725061, 'id_str': '1391387517895725061', 'text': 'President Trump: 75 million voters and I continue to support you!! #GodBlessAmerica #GodBlessPresidentTrump', 'truncated': False, 'entities': {'hashtags': [{'text': 'GodBlessAmerica', 'indices': [67, 83]}, {'text': 'GodBlessPresidentTrump', 'indices': [84, 107]}], 'symbols': [], 'user_mentions': [], 'urls': []}, 'metadata': {'iso_language_code': 'en', 'result_type': 'recent'}, 'source': '<a href=\"https://mobile.twitter.com\" rel=\"nofollow\">Twitter Web App</a>', 'in_reply_to_status_id': None, 'in_reply_to_status_id_str': None, 'in_reply_to_user_id': None, 'in_reply_to_user_id_str': None, 'in_reply_to_screen_name': None, 'user': {'id': 1212806053907185664, 'id_str': '1212806053907185664', 'name': 'TheLeoTerrell', 'screen_name': 'TheLeoTerrell', 'location': 'Los Angeles', 'description': 'Fair Minded Fox News Contributor, Podcast Host, Civil Rights Attorney, Author, Fmr School Teacher. Leo 2.0 on @KABCRadio @FoxNews', 'url': 'https://t.co/Lp3c7Pr7Zj', 'entities': {'url': {'urls': [{'url': 'https://t.co/Lp3c7Pr7Zj', 'expanded_url': 'http://theleoterrell.com', 'display_url': 'theleoterrell.com', 'indices': [0, 23]}]}, 'description': {'urls': []}}, 'protected': False, 'followers_count': 497330, 'friends_count': 442, 'listed_count': 670, 'created_at': 'Thu Jan 02 18:41:53 +0000 2020', 'favourites_count': 4933, 'utc_offset': None, 'time_zone': None, 'geo_enabled': True, 'verified': False, 'statuses_count': 6971, 'lang': None, 'contributors_enabled': False, 'is_translator': False, 'is_translation_enabled': False, 'profile_background_color': 'F5F8FA', 'profile_background_image_url': None, 'profile_background_image_url_https': None, 'profile_background_tile': False, 'profile_image_url': 'http://pbs.twimg.com/profile_images/1383565672827944964/qxxY3h_v_normal.jpg', 'profile_image_url_https': 'https://pbs.twimg.com/profile_images/1383565672827944964/qxxY3h_v_normal.jpg', 'profile_banner_url': 'https://pbs.twimg.com/profile_banners/1212806053907185664/1601044840', 'profile_link_color': '1DA1F2', 'profile_sidebar_border_color': 'C0DEED', 'profile_sidebar_fill_color': 'DDEEF6', 'profile_text_color': '333333', 'profile_use_background_image': True, 'has_extended_profile': False, 'default_profile': True, 'default_profile_image': False, 'following': False, 'follow_request_sent': False, 'notifications': False, 'translator_type': 'none', 'withheld_in_countries': []}, 'geo': None, 'coordinates': None, 'place': None, 'contributors': None, 'is_quote_status': False, 'retweet_count': 114, 'favorite_count': 1063, 'favorited': False, 'retweeted': False, 'lang': 'en'}, created_at=datetime.datetime(2021, 5, 9, 13, 40, 9), id=1391387517895725061, id_str='1391387517895725061', text='President Trump: 75 million voters and I continue to support you!! #GodBlessAmerica #GodBlessPresidentTrump', truncated=False, entities={'hashtags': [{'text': 'GodBlessAmerica', 'indices': [67, 83]}, {'text': 'GodBlessPresidentTrump', 'indices': [84, 107]}], 'symbols': [], 'user_mentions': [], 'urls': []}, metadata={'iso_language_code': 'en', 'result_type': 'recent'}, source='Twitter Web App', source_url='https://mobile.twitter.com', in_reply_to_status_id=None, in_reply_to_status_id_str=None, in_reply_to_user_id=None, in_reply_to_user_id_str=None, in_reply_to_screen_name=None, author=User(_api=<tweepy.api.API object at 0x137643510>, _json={'id': 1212806053907185664, 'id_str': '1212806053907185664', 'name': 'TheLeoTerrell', 'screen_name': 'TheLeoTerrell', 'location': 'Los Angeles', 'description': 'Fair Minded Fox News Contributor, Podcast Host, Civil Rights Attorney, Author, Fmr School Teacher. Leo 2.0 on @KABCRadio @FoxNews', 'url': 'https://t.co/Lp3c7Pr7Zj', 'entities': {'url': {'urls': [{'url': 'https://t.co/Lp3c7Pr7Zj', 'expanded_url': 'http://theleoterrell.com', 'display_url': 'theleoterrell.com', 'indices': [0, 23]}]}, 'description': {'urls': []}}, 'protected': False, 'followers_count': 497330, 'friends_count': 442, 'listed_count': 670, 'created_at': 'Thu Jan 02 18:41:53 +0000 2020', 'favourites_count': 4933, 'utc_offset': None, 'time_zone': None, 'geo_enabled': True, 'verified': False, 'statuses_count': 6971, 'lang': None, 'contributors_enabled': False, 'is_translator': False, 'is_translation_enabled': False, 'profile_background_color': 'F5F8FA', 'profile_background_image_url': None, 'profile_background_image_url_https': None, 'profile_background_tile': False, 'profile_image_url': 'http://pbs.twimg.com/profile_images/1383565672827944964/qxxY3h_v_normal.jpg', 'profile_image_url_https': 'https://pbs.twimg.com/profile_images/1383565672827944964/qxxY3h_v_normal.jpg', 'profile_banner_url': 'https://pbs.twimg.com/profile_banners/1212806053907185664/1601044840', 'profile_link_color': '1DA1F2', 'profile_sidebar_border_color': 'C0DEED', 'profile_sidebar_fill_color': 'DDEEF6', 'profile_text_color': '333333', 'profile_use_background_image': True, 'has_extended_profile': False, 'default_profile': True, 'default_profile_image': False, 'following': False, 'follow_request_sent': False, 'notifications': False, 'translator_type': 'none', 'withheld_in_countries': []}, id=1212806053907185664, id_str='1212806053907185664', name='TheLeoTerrell', screen_name='TheLeoTerrell', location='Los Angeles', description='Fair Minded Fox News Contributor, Podcast Host, Civil Rights Attorney, Author, Fmr School Teacher. Leo 2.0 on @KABCRadio @FoxNews', url='https://t.co/Lp3c7Pr7Zj', entities={'url': {'urls': [{'url': 'https://t.co/Lp3c7Pr7Zj', 'expanded_url': 'http://theleoterrell.com', 'display_url': 'theleoterrell.com', 'indices': [0, 23]}]}, 'description': {'urls': []}}, protected=False, followers_count=497330, friends_count=442, listed_count=670, created_at=datetime.datetime(2020, 1, 2, 18, 41, 53), favourites_count=4933, utc_offset=None, time_zone=None, geo_enabled=True, verified=False, statuses_count=6971, lang=None, contributors_enabled=False, is_translator=False, is_translation_enabled=False, profile_background_color='F5F8FA', profile_background_image_url=None, profile_background_image_url_https=None, profile_background_tile=False, profile_image_url='http://pbs.twimg.com/profile_images/1383565672827944964/qxxY3h_v_normal.jpg', profile_image_url_https='https://pbs.twimg.com/profile_images/1383565672827944964/qxxY3h_v_normal.jpg', profile_banner_url='https://pbs.twimg.com/profile_banners/1212806053907185664/1601044840', profile_link_color='1DA1F2', profile_sidebar_border_color='C0DEED', profile_sidebar_fill_color='DDEEF6', profile_text_color='333333', profile_use_background_image=True, has_extended_profile=False, default_profile=True, default_profile_image=False, following=False, follow_request_sent=False, notifications=False, translator_type='none', withheld_in_countries=[]), user=User(_api=<tweepy.api.API object at 0x137643510>, _json={'id': 1212806053907185664, 'id_str': '1212806053907185664', 'name': 'TheLeoTerrell', 'screen_name': 'TheLeoTerrell', 'location': 'Los Angeles', 'description': 'Fair Minded Fox News Contributor, Podcast Host, Civil Rights Attorney, Author, Fmr School Teacher. Leo 2.0 on @KABCRadio @FoxNews', 'url': 'https://t.co/Lp3c7Pr7Zj', 'entities': {'url': {'urls': [{'url': 'https://t.co/Lp3c7Pr7Zj', 'expanded_url': 'http://theleoterrell.com', 'display_url': 'theleoterrell.com', 'indices': [0, 23]}]}, 'description': {'urls': []}}, 'protected': False, 'followers_count': 497330, 'friends_count': 442, 'listed_count': 670, 'created_at': 'Thu Jan 02 18:41:53 +0000 2020', 'favourites_count': 4933, 'utc_offset': None, 'time_zone': None, 'geo_enabled': True, 'verified': False, 'statuses_count': 6971, 'lang': None, 'contributors_enabled': False, 'is_translator': False, 'is_translation_enabled': False, 'profile_background_color': 'F5F8FA', 'profile_background_image_url': None, 'profile_background_image_url_https': None, 'profile_background_tile': False, 'profile_image_url': 'http://pbs.twimg.com/profile_images/1383565672827944964/qxxY3h_v_normal.jpg', 'profile_image_url_https': 'https://pbs.twimg.com/profile_images/1383565672827944964/qxxY3h_v_normal.jpg', 'profile_banner_url': 'https://pbs.twimg.com/profile_banners/1212806053907185664/1601044840', 'profile_link_color': '1DA1F2', 'profile_sidebar_border_color': 'C0DEED', 'profile_sidebar_fill_color': 'DDEEF6', 'profile_text_color': '333333', 'profile_use_background_image': True, 'has_extended_profile': False, 'default_profile': True, 'default_profile_image': False, 'following': False, 'follow_request_sent': False, 'notifications': False, 'translator_type': 'none', 'withheld_in_countries': []}, id=1212806053907185664, id_str='1212806053907185664', name='TheLeoTerrell', screen_name='TheLeoTerrell', location='Los Angeles', description='Fair Minded Fox News Contributor, Podcast Host, Civil Rights Attorney, Author, Fmr School Teacher. Leo 2.0 on @KABCRadio @FoxNews', url='https://t.co/Lp3c7Pr7Zj', entities={'url': {'urls': [{'url': 'https://t.co/Lp3c7Pr7Zj', 'expanded_url': 'http://theleoterrell.com', 'display_url': 'theleoterrell.com', 'indices': [0, 23]}]}, 'description': {'urls': []}}, protected=False, followers_count=497330, friends_count=442, listed_count=670, created_at=datetime.datetime(2020, 1, 2, 18, 41, 53), favourites_count=4933, utc_offset=None, time_zone=None, geo_enabled=True, verified=False, statuses_count=6971, lang=None, contributors_enabled=False, is_translator=False, is_translation_enabled=False, profile_background_color='F5F8FA', profile_background_image_url=None, profile_background_image_url_https=None, profile_background_tile=False, profile_image_url='http://pbs.twimg.com/profile_images/1383565672827944964/qxxY3h_v_normal.jpg', profile_image_url_https='https://pbs.twimg.com/profile_images/1383565672827944964/qxxY3h_v_normal.jpg', profile_banner_url='https://pbs.twimg.com/profile_banners/1212806053907185664/1601044840', profile_link_color='1DA1F2', profile_sidebar_border_color='C0DEED', profile_sidebar_fill_color='DDEEF6', profile_text_color='333333', profile_use_background_image=True, has_extended_profile=False, default_profile=True, default_profile_image=False, following=False, follow_request_sent=False, notifications=False, translator_type='none', withheld_in_countries=[]), geo=None, coordinates=None, place=None, contributors=None, is_quote_status=False, retweet_count=114, favorite_count=1063, favorited=False, retweeted=False, lang='en'), is_quote_status=False, retweet_count=114, favorite_count=0, favorited=False, retweeted=False, lang='en')\n"
     ]
    }
   ],
   "source": [
    "for tweet in tweets:\n",
    "    print(tweet)\n",
    "    break"
   ]
  },
  {
   "cell_type": "code",
   "execution_count": 10,
   "metadata": {},
   "outputs": [
    {
     "name": "stdout",
     "output_type": "stream",
     "text": [
      "Imran Khan said انسانیت کی تمام حدود اور عالمی قوانین پامال کرتے ہوئے خصوصاً رمضان المبارک کے دوران اسرائیلی فوجیوں کے قبلہ اول یعن… https://t.co/1KzxeLmzI2\n",
      "Imran Khan said Strongly condemn Israeli Forces' attack esp during Ramazan on Palestinians in Qibla-e-Awaal, Al-Aqsa Mosque, violat… https://t.co/UpMZWC1iuP\n",
      "SpaceX said Deployment of 60 Starlink satellites confirmed https://t.co/RarbrcfUml\n",
      "Narendra Modi said Saddened by the demise of INA veteran Lalti Ram Ji. His courage and contributions to India’s freedom struggle will… https://t.co/E5hKmAdkXW\n",
      "SpaceX said Falcon 9’s first stage has landed on the Just Read the Instructions droneship, completing this booster’s 10th launc… https://t.co/48pJZyHq1i\n",
      "SpaceX said Liftoff! https://t.co/MZ4ct2Spnj\n",
      "SpaceX said Watch the first tenth flight of an orbital class rocket booster → https://t.co/bJFjLCzWdK  https://t.co/MDM6RNlN4J\n",
      "enzo said RT @Abz4ktt: I beg (if it is Laylatul Qadr tonight Inshallah) all of us Muslimeen in the world rn to all raise our hands tonight Inshallah…\n",
      "enzo said happy mother’s day to all the beautiful and selfless women out there 💓💓\n",
      "Narendra Modi said महान स्वतंत्रता सेनानी और समाजसेवी गोपाल कृष्ण गोखले को उनकी जयंती पर शत-शत नमन। राष्ट्रसेवा में समर्पित उनका जीवन… https://t.co/1FxxW1GcdD\n",
      "Narendra Modi said अपने अप्रतिम साहस, शौर्य और युद्ध कौशल से मां भारती को गौरवान्वित करने वाले महान योद्धा महाराणा प्रताप को उनकी जयं… https://t.co/vhUhmS5yER\n",
      "Narendra Modi said On Tagore Jayanti, I bow to the great Gurudev Tagore. May his exemplary ideals keep giving us strength and inspirat… https://t.co/uln0JcczLX\n",
      "Narendra Modi said রবীন্দ্রজয়ন্তীতে গুরুদেব রবীন্দ্রনাথ ঠাকুরের প্রতি আমার প্রণাম। প্রার্থনা করি, তাঁর স্বপ্নের ভারতবর্ষ গড়ে তুলতে… https://t.co/iSXBOVey2p\n",
      "Marques Brownlee said Lucid Air and Mustang Mach E commercials During SNL\n",
      "\n",
      "Tesla CEO hosting SNL\n",
      "\n",
      "There’s a joke in there somewhere #future\n",
      "Marques Brownlee said You've been scrolling for a while, check on that posture. Oh and don't forget to drink some water today. Rest your… https://t.co/9FdlzJiRi2\n",
      "enzo said mashallah 🤍 https://t.co/wAShfJgFTb\n",
      "BBC Breaking News said Labour's Sadiq Khan wins second term as London's mayor after beating Conservative rival Shaun Bailey \n",
      "\n",
      "https://t.co/ZcaQRnS3Bd\n",
      "Doug Ford said Ontario has now administered over 6 MILLION doses of the #COVID19 vaccine. As we receive more vaccines, more groups… https://t.co/OuGxjgCLjN\n",
      "Elon Musk said Special link to view SNL outside USA\n",
      "https://t.co/egSDZ8sNFu\n",
      "Hillary Clinton said We know waiving vaccine patents can save lives without stifling pharmaceutical companies' creativity. @billclinton… https://t.co/lYldqRy6Nq\n"
     ]
    }
   ],
   "source": [
    "timeline = api.home_timeline()\n",
    "for tweet in timeline:\n",
    "    print(f\"{tweet.user.name} said {tweet.text}\")"
   ]
  },
  {
   "cell_type": "code",
   "execution_count": null,
   "metadata": {},
   "outputs": [],
   "source": []
  },
  {
   "cell_type": "code",
   "execution_count": null,
   "metadata": {},
   "outputs": [],
   "source": []
  },
  {
   "cell_type": "code",
   "execution_count": null,
   "metadata": {},
   "outputs": [],
   "source": []
  }
 ],
 "metadata": {
  "kernelspec": {
   "display_name": "Python 3",
   "language": "python",
   "name": "python3"
  },
  "language_info": {
   "codemirror_mode": {
    "name": "ipython",
    "version": 3
   },
   "file_extension": ".py",
   "mimetype": "text/x-python",
   "name": "python",
   "nbconvert_exporter": "python",
   "pygments_lexer": "ipython3",
   "version": "3.7.5"
  }
 },
 "nbformat": 4,
 "nbformat_minor": 2
}
