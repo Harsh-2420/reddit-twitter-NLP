{
 "cells": [
  {
   "cell_type": "code",
   "execution_count": 2,
   "metadata": {},
   "outputs": [],
   "source": [
    "import praw\n",
    "import requests"
   ]
  },
  {
   "cell_type": "code",
   "execution_count": 5,
   "metadata": {},
   "outputs": [],
   "source": [
    "client_secret = 'HeEFguWTJoqVRJ-jlu4Dq3qcQpS4Pg'\n",
    "client_id = 'pmOxZCjGdN_xaw'\n"
   ]
  },
  {
   "cell_type": "code",
   "execution_count": 6,
   "metadata": {},
   "outputs": [],
   "source": [
    "reddit = praw.Reddit(client_id=client_id, client_secret=client_secret, username='Itchy_Ease8445', user_agent=\"redditapi\")"
   ]
  },
  {
   "cell_type": "code",
   "execution_count": 21,
   "metadata": {},
   "outputs": [],
   "source": [
    "subreddit = reddit.subreddit('python')"
   ]
  },
  {
   "cell_type": "code",
   "execution_count": 23,
   "metadata": {},
   "outputs": [
    {
     "name": "stdout",
     "output_type": "stream",
     "text": [
      "Sunday Daily Thread: What's everyone working on this week?\n",
      "Saturday Daily Thread: Resource Request and Sharing!\n",
      "PEP 657 -- Include Fine Grained Error Locations in Tracebacks\n",
      "Python programmers prepare for pumped-up performance: Article describes Pyston and plans to upstream Pyston changes back into CPython, plus Facebook's Cinder: \"publicly available for anyone to download and try and suggest improvements.\"\n",
      "Why isn't Dependency Inversion as common in Python as it is in Java?\n"
     ]
    }
   ],
   "source": [
    "for sub in subreddit.hot(limit=5):\n",
    "    print(sub.title)"
   ]
  },
  {
   "cell_type": "code",
   "execution_count": null,
   "metadata": {},
   "outputs": [],
   "source": []
  }
 ],
 "metadata": {
  "kernelspec": {
   "display_name": "Python 3",
   "language": "python",
   "name": "python3"
  },
  "language_info": {
   "codemirror_mode": {
    "name": "ipython",
    "version": 3
   },
   "file_extension": ".py",
   "mimetype": "text/x-python",
   "name": "python",
   "nbconvert_exporter": "python",
   "pygments_lexer": "ipython3",
   "version": "3.7.5"
  }
 },
 "nbformat": 4,
 "nbformat_minor": 2
}
