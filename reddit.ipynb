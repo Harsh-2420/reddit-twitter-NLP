{
 "cells": [
  {
   "cell_type": "code",
   "execution_count": 63,
   "metadata": {},
   "outputs": [],
   "source": [
    "import praw\n",
    "import requests\n",
    "from datetime import datetime"
   ]
  },
  {
   "cell_type": "code",
   "execution_count": 64,
   "metadata": {},
   "outputs": [],
   "source": [
    "client_secret = 'HeEFguWTJoqVRJ-jlu4Dq3qcQpS4Pg'\n",
    "client_id = 'pmOxZCjGdN_xaw'\n"
   ]
  },
  {
   "cell_type": "code",
   "execution_count": 65,
   "metadata": {},
   "outputs": [],
   "source": [
    "reddit = praw.Reddit(client_id=client_id, client_secret=client_secret, username='Striking_Pineapple2', user_agent=\"redditapi\")"
   ]
  },
  {
   "cell_type": "markdown",
   "metadata": {},
   "source": [
    "# Data from Keyword "
   ]
  },
  {
   "cell_type": "code",
   "execution_count": 89,
   "metadata": {},
   "outputs": [],
   "source": [
    "subreddit = reddit.subreddit('london')"
   ]
  },
  {
   "cell_type": "code",
   "execution_count": 101,
   "metadata": {},
   "outputs": [
    {
     "data": {
      "text/html": [
       "<div>\n",
       "<style scoped>\n",
       "    .dataframe tbody tr th:only-of-type {\n",
       "        vertical-align: middle;\n",
       "    }\n",
       "\n",
       "    .dataframe tbody tr th {\n",
       "        vertical-align: top;\n",
       "    }\n",
       "\n",
       "    .dataframe thead th {\n",
       "        text-align: right;\n",
       "    }\n",
       "</style>\n",
       "<table border=\"1\" class=\"dataframe\">\n",
       "  <thead>\n",
       "    <tr style=\"text-align: right;\">\n",
       "      <th></th>\n",
       "    </tr>\n",
       "  </thead>\n",
       "  <tbody>\n",
       "  </tbody>\n",
       "</table>\n",
       "</div>"
      ],
      "text/plain": [
       "Empty DataFrame\n",
       "Columns: []\n",
       "Index: []"
      ]
     },
     "execution_count": 101,
     "metadata": {},
     "output_type": "execute_result"
    }
   ],
   "source": [
    "import pandas as pd\n",
    "df = pd.DataFrame()\n",
    "df"
   ]
  },
  {
   "cell_type": "code",
   "execution_count": 102,
   "metadata": {},
   "outputs": [],
   "source": [
    "id_list = []\n",
    "title = []\n",
    "author = []\n",
    "comments = []\n",
    "date = []\n",
    "for sub in subreddit.hot(limit=1):\n",
    "    time = datetime.utcfromtimestamp(sub.created).strftime('%Y-%m-%d')\n",
    "    id_list.append(sub.id)\n",
    "    title.append(sub.title)\n",
    "    author.append(sub.author)\n",
    "    comments.append(sub.num_comments)\n",
    "    date.append(time)\n",
    "\n",
    "    \n",
    "columns=['post_id', 'title', 'author', 'total comments', 'date posted']\n",
    "df['post_id'] = id_list\n",
    "df['title'] = title\n",
    "df['author'] = author\n",
    "df['total comments'] = comments\n",
    "df['date'] = date"
   ]
  },
  {
   "cell_type": "code",
   "execution_count": 103,
   "metadata": {},
   "outputs": [
    {
     "data": {
      "text/html": [
       "<div>\n",
       "<style scoped>\n",
       "    .dataframe tbody tr th:only-of-type {\n",
       "        vertical-align: middle;\n",
       "    }\n",
       "\n",
       "    .dataframe tbody tr th {\n",
       "        vertical-align: top;\n",
       "    }\n",
       "\n",
       "    .dataframe thead th {\n",
       "        text-align: right;\n",
       "    }\n",
       "</style>\n",
       "<table border=\"1\" class=\"dataframe\">\n",
       "  <thead>\n",
       "    <tr style=\"text-align: right;\">\n",
       "      <th></th>\n",
       "      <th>post_id</th>\n",
       "      <th>title</th>\n",
       "      <th>author</th>\n",
       "      <th>total comments</th>\n",
       "      <th>date</th>\n",
       "    </tr>\n",
       "  </thead>\n",
       "  <tbody>\n",
       "    <tr>\n",
       "      <th>0</th>\n",
       "      <td>n8pm40</td>\n",
       "      <td>Megathread for visitors and new &amp; existing res...</td>\n",
       "      <td>AutoModerator</td>\n",
       "      <td>7</td>\n",
       "      <td>2021-05-10</td>\n",
       "    </tr>\n",
       "  </tbody>\n",
       "</table>\n",
       "</div>"
      ],
      "text/plain": [
       "  post_id                                              title         author  \\\n",
       "0  n8pm40  Megathread for visitors and new & existing res...  AutoModerator   \n",
       "\n",
       "   total comments        date  \n",
       "0               7  2021-05-10  "
      ]
     },
     "execution_count": 103,
     "metadata": {},
     "output_type": "execute_result"
    }
   ],
   "source": [
    "df"
   ]
  },
  {
   "cell_type": "code",
   "execution_count": 77,
   "metadata": {},
   "outputs": [
    {
     "data": {
      "text/plain": [
       "['2021-05-10',\n",
       " '2021-05-05',\n",
       " '2021-05-10',\n",
       " '2021-05-10',\n",
       " '2021-05-09',\n",
       " '2021-05-10',\n",
       " '2021-05-09',\n",
       " '2021-05-10',\n",
       " '2021-05-10',\n",
       " '2021-05-09',\n",
       " '2021-05-10',\n",
       " '2021-05-10',\n",
       " '2021-05-10',\n",
       " '2021-05-10',\n",
       " '2021-05-10',\n",
       " '2021-05-10',\n",
       " '2021-05-10',\n",
       " '2021-05-10',\n",
       " '2021-05-10',\n",
       " '2021-05-10',\n",
       " '2021-05-10',\n",
       " '2021-05-10',\n",
       " '2021-05-10',\n",
       " '2021-05-10',\n",
       " '2021-05-10',\n",
       " '2021-05-09',\n",
       " '2021-05-10',\n",
       " '2021-05-09',\n",
       " '2021-05-10',\n",
       " '2021-05-10',\n",
       " '2021-05-10',\n",
       " '2021-05-09',\n",
       " '2021-05-09',\n",
       " '2021-05-10',\n",
       " '2021-05-10',\n",
       " '2021-05-09',\n",
       " '2021-05-09',\n",
       " '2021-05-09',\n",
       " '2021-05-09',\n",
       " '2021-05-08',\n",
       " '2021-05-10',\n",
       " '2021-05-09',\n",
       " '2021-05-10',\n",
       " '2021-05-10',\n",
       " '2021-05-10',\n",
       " '2021-05-09',\n",
       " '2021-05-10',\n",
       " '2021-05-10',\n",
       " '2021-05-09',\n",
       " '2021-05-08',\n",
       " '2021-05-08',\n",
       " '2021-05-09',\n",
       " '2021-05-10',\n",
       " '2021-05-10',\n",
       " '2021-05-09',\n",
       " '2021-05-10',\n",
       " '2021-05-09',\n",
       " '2021-05-08',\n",
       " '2021-05-08',\n",
       " '2021-05-08',\n",
       " '2021-05-10',\n",
       " '2021-05-08',\n",
       " '2021-05-08',\n",
       " '2021-05-10',\n",
       " '2021-05-08',\n",
       " '2021-05-08',\n",
       " '2021-05-08',\n",
       " '2021-05-08',\n",
       " '2021-05-09',\n",
       " '2021-05-08',\n",
       " '2021-05-09',\n",
       " '2021-05-09',\n",
       " '2021-05-08',\n",
       " '2021-05-07',\n",
       " '2021-05-08',\n",
       " '2021-05-08',\n",
       " '2021-05-08',\n",
       " '2021-05-08',\n",
       " '2021-05-08',\n",
       " '2021-05-09',\n",
       " '2021-05-08',\n",
       " '2021-05-08',\n",
       " '2021-05-08',\n",
       " '2021-05-08',\n",
       " '2021-05-07',\n",
       " '2021-05-08',\n",
       " '2021-05-08',\n",
       " '2021-05-08',\n",
       " '2021-05-08',\n",
       " '2021-05-08',\n",
       " '2021-05-08',\n",
       " '2021-05-09',\n",
       " '2021-05-07',\n",
       " '2021-05-08',\n",
       " '2021-05-07',\n",
       " '2021-05-08',\n",
       " '2021-05-08',\n",
       " '2021-05-07',\n",
       " '2021-05-08',\n",
       " '2021-05-08',\n",
       " '2021-05-08',\n",
       " '2021-05-08',\n",
       " '2021-05-09',\n",
       " '2021-05-08',\n",
       " '2021-05-07',\n",
       " '2021-05-08',\n",
       " '2021-05-08',\n",
       " '2021-05-08',\n",
       " '2021-05-08',\n",
       " '2021-05-08',\n",
       " '2021-05-07',\n",
       " '2021-05-08',\n",
       " '2021-05-07',\n",
       " '2021-05-06',\n",
       " '2021-05-07',\n",
       " '2021-05-07',\n",
       " '2021-05-07',\n",
       " '2021-05-07',\n",
       " '2021-05-08',\n",
       " '2021-05-07',\n",
       " '2021-05-07',\n",
       " '2021-05-07',\n",
       " '2021-05-06',\n",
       " '2021-05-08',\n",
       " '2021-05-08']"
      ]
     },
     "execution_count": 77,
     "metadata": {},
     "output_type": "execute_result"
    }
   ],
   "source": [
    "date"
   ]
  },
  {
   "cell_type": "code",
   "execution_count": 83,
   "metadata": {},
   "outputs": [
    {
     "name": "stdout",
     "output_type": "stream",
     "text": [
      "Megathread for visitors and new & existing residents. All questions about living/working/budgeting/visiting should be asked here!\n",
      "Hi all!! I would love some help narrowing down best areas to look for flats.  A little background info: we will be moving from the US to London in the next few months, I'll be doing a masters program at City, husband will likely work in either Canary Wharf or central London (software engineering).  We have two kids who will be 5 and 3 when we move.  \n",
      "\n",
      "What we are looking for:\n",
      "\n",
      "- all in budget of £2k max, but would feel more comfortable a bit under that\n",
      "- easy walk to coffee and green space \n",
      "- hour or so commute for both of us \n",
      "-  on the quieter side, not interested in bars or clubs\n",
      "- 2 double bedrooms \n",
      "- near parks and decent schools for the kids\n",
      "- zone 2 or 3\n",
      "\n",
      "So far we have heard from friends that Crystal Palace would tick a lot of boxes, as well as the Rotherhithe and Dulwich areas.  Anyone (particularly those with kids) have any experience in these areas?? Would love to hear about how difficult the process is for getting into primary school and nursery there as well.  I'd also like to be able to walk my kids to school rather than take a bus, is that generally a possibility for school children in London, or is it more likely we would have to take transport?  Thank you so much!\n",
      "n8pm40\n",
      "-----\n",
      "Hi, if anyone's been is London zoo as covid safe as it should be. I've always thought of zoos as a little bit germy due to kids running around but with covid are they taking/enforcing precautions if people have gone. I don't want to contribute to the spread but am double vacc and want to get out but if it's overcrowded I don't think I could enjoy it in covid circumstances.\n",
      "\n",
      "Sorry for long question Ty in advance for replies\n",
      "n8pm40\n",
      "-----\n",
      "Coming to UK in two weeks to see my uncle in Scotland for two months. Im from the US and found out I can get to Scotland if and can quarantine at a residence rather than pay for a pricey quarantine hotel in London. Was gonna stay with a friend and just pay for groceries, bought a ticket, and they bailed! Now im stuck having to buy the pricey covid hotel!! Pray for me I find a random UK friend or something that isn’t the hotel soon y’all all im tryna do is get to family.\n",
      "\n",
      "I expected the US to be on the green list. Foolish of me I know but very sad, especially since I got fully vaccinated four months ago! Trying to make extra money for a covid hotel now.\n",
      "\n",
      "Anyone who knows a way to find someone willing to host a random American or not pay $2000  or £1725 please let me know I will buy your groceries LMAO. 😭\n",
      "n8pm40\n",
      "-----\n"
     ]
    }
   ],
   "source": [
    "for sub in subreddit.hot(limit=1):\n",
    "    print(sub.title)\n",
    "    sub.comments.replace_more(limit=0)\n",
    "    i = 0\n",
    "    for comment in sub.comments:\n",
    "        if i< 11:\n",
    "            print(comment.body)\n",
    "            print(comment.parent())\n",
    "        else:\n",
    "            break\n",
    "        i +=1\n",
    "        print('-----')"
   ]
  },
  {
   "cell_type": "code",
   "execution_count": 36,
   "metadata": {},
   "outputs": [
    {
     "name": "stdout",
     "output_type": "stream",
     "text": [
      "['STR_FIELD', '__class__', '__delattr__', '__dict__', '__dir__', '__doc__', '__eq__', '__format__', '__ge__', '__getattr__', '__getattribute__', '__gt__', '__hash__', '__init__', '__init_subclass__', '__le__', '__lt__', '__module__', '__ne__', '__new__', '__reduce__', '__reduce_ex__', '__repr__', '__setattr__', '__sizeof__', '__str__', '__subclasshook__', '__weakref__', '_chunk', '_comments_by_id', '_fetch', '_fetch_data', '_fetch_info', '_fetched', '_kind', '_reddit', '_reset_attributes', '_safely_add_arguments', '_url_parts', '_vote', 'all_awardings', 'allow_live_comments', 'approved_at_utc', 'approved_by', 'archived', 'author', 'author_flair_background_color', 'author_flair_css_class', 'author_flair_richtext', 'author_flair_template_id', 'author_flair_text', 'author_flair_text_color', 'author_flair_type', 'author_fullname', 'author_patreon_flair', 'author_premium', 'award', 'awarders', 'banned_at_utc', 'banned_by', 'can_gild', 'can_mod_post', 'category', 'clear_vote', 'clicked', 'comment_limit', 'comment_sort', 'comments', 'content_categories', 'contest_mode', 'created', 'created_utc', 'crosspost', 'delete', 'disable_inbox_replies', 'discussion_type', 'distinguished', 'domain', 'downs', 'downvote', 'duplicates', 'edit', 'edited', 'enable_inbox_replies', 'flair', 'fullname', 'gild', 'gilded', 'gildings', 'hidden', 'hide', 'hide_score', 'id', 'id_from_url', 'is_crosspostable', 'is_meta', 'is_original_content', 'is_reddit_media_domain', 'is_robot_indexable', 'is_self', 'is_video', 'likes', 'link_flair_background_color', 'link_flair_css_class', 'link_flair_richtext', 'link_flair_text', 'link_flair_text_color', 'link_flair_type', 'locked', 'mark_visited', 'media', 'media_embed', 'media_only', 'mod', 'mod_note', 'mod_reason_by', 'mod_reason_title', 'mod_reports', 'name', 'no_follow', 'num_comments', 'num_crossposts', 'num_reports', 'over_18', 'parent_whitelist_status', 'parse', 'permalink', 'pinned', 'pwls', 'quarantine', 'removal_reason', 'removed_by', 'removed_by_category', 'reply', 'report', 'report_reasons', 'save', 'saved', 'score', 'secure_media', 'secure_media_embed', 'selftext', 'selftext_html', 'send_replies', 'shortlink', 'spoiler', 'stickied', 'subreddit', 'subreddit_id', 'subreddit_name_prefixed', 'subreddit_subscribers', 'subreddit_type', 'suggested_sort', 'thumbnail', 'thumbnail_height', 'thumbnail_width', 'title', 'top_awarded_type', 'total_awards_received', 'treatment_tags', 'unhide', 'unsave', 'ups', 'upvote', 'upvote_ratio', 'url', 'user_reports', 'view_count', 'visited', 'whitelist_status', 'wls']\n",
      "london\n",
      "7\n",
      "Megathread for visitors and new & existing residents. All questions about living/working/budgeting/visiting should be asked here!\n"
     ]
    }
   ],
   "source": [
    "for sub in subreddit.hot(limit=1):\n",
    "    print(dir(sub))\n",
    "#     print(sub.body)\n",
    "    print(sub.subreddit)\n",
    "    print(sub.score)\n",
    "    print(sub.title)\n",
    "#     print(sub.thumbnail)\n",
    "    "
   ]
  },
  {
   "cell_type": "code",
   "execution_count": null,
   "metadata": {},
   "outputs": [],
   "source": []
  }
 ],
 "metadata": {
  "kernelspec": {
   "display_name": "Python 3",
   "language": "python",
   "name": "python3"
  },
  "language_info": {
   "codemirror_mode": {
    "name": "ipython",
    "version": 3
   },
   "file_extension": ".py",
   "mimetype": "text/x-python",
   "name": "python",
   "nbconvert_exporter": "python",
   "pygments_lexer": "ipython3",
   "version": "3.7.5"
  }
 },
 "nbformat": 4,
 "nbformat_minor": 2
}
